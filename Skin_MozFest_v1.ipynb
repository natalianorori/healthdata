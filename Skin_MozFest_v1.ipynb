{
 "cells": [
  {
   "cell_type": "markdown",
   "metadata": {},
   "source": [
    "## Questions for Natalia:\n",
    "- when do these disease arise?\n",
    "- when are they usually diagnosed?\n",
    "- is this reflected in the dataset? Or shall it reflect more the world population?"
   ]
  },
  {
   "cell_type": "markdown",
   "metadata": {},
   "source": [
    "# Health data sharing is caring"
   ]
  },
  {
   "cell_type": "code",
   "execution_count": 1,
   "metadata": {},
   "outputs": [],
   "source": [
    "# Libraries\n",
    "import pandas as pd\n",
    "import numpy as np\n",
    "from sklearn.svm import SVC\n",
    "from sklearn.model_selection import cross_validate\n",
    "from sklearn.model_selection import train_test_split\n",
    "from sklearn import svm\n",
    "from sklearn.metrics import confusion_matrix\n",
    "import matplotlib.pyplot as plt\n",
    "from matplotlib import cm"
   ]
  },
  {
   "cell_type": "markdown",
   "metadata": {},
   "source": [
    "## Load data"
   ]
  },
  {
   "cell_type": "markdown",
   "metadata": {},
   "source": [
    "The HAM10000 dataset, a large collection of multi-source dermatoscopic images of common pigmented skin lesions"
   ]
  },
  {
   "cell_type": "markdown",
   "metadata": {},
   "source": [
    "From: https://dataverse.harvard.edu/dataset.xhtml?persistentId=doi:10.7910/DVN/DBW86T"
   ]
  },
  {
   "cell_type": "code",
   "execution_count": 2,
   "metadata": {},
   "outputs": [
    {
     "data": {
      "text/html": [
       "<div>\n",
       "<style scoped>\n",
       "    .dataframe tbody tr th:only-of-type {\n",
       "        vertical-align: middle;\n",
       "    }\n",
       "\n",
       "    .dataframe tbody tr th {\n",
       "        vertical-align: top;\n",
       "    }\n",
       "\n",
       "    .dataframe thead th {\n",
       "        text-align: right;\n",
       "    }\n",
       "</style>\n",
       "<table border=\"1\" class=\"dataframe\">\n",
       "  <thead>\n",
       "    <tr style=\"text-align: right;\">\n",
       "      <th></th>\n",
       "      <th>lesion_id</th>\n",
       "      <th>image_id</th>\n",
       "      <th>dx</th>\n",
       "      <th>dx_type</th>\n",
       "      <th>age</th>\n",
       "      <th>sex</th>\n",
       "      <th>localization</th>\n",
       "    </tr>\n",
       "  </thead>\n",
       "  <tbody>\n",
       "    <tr>\n",
       "      <th>0</th>\n",
       "      <td>HAM_0000118</td>\n",
       "      <td>ISIC_0027419</td>\n",
       "      <td>bkl</td>\n",
       "      <td>histo</td>\n",
       "      <td>80.0</td>\n",
       "      <td>male</td>\n",
       "      <td>scalp</td>\n",
       "    </tr>\n",
       "    <tr>\n",
       "      <th>1</th>\n",
       "      <td>HAM_0000118</td>\n",
       "      <td>ISIC_0025030</td>\n",
       "      <td>bkl</td>\n",
       "      <td>histo</td>\n",
       "      <td>80.0</td>\n",
       "      <td>male</td>\n",
       "      <td>scalp</td>\n",
       "    </tr>\n",
       "    <tr>\n",
       "      <th>2</th>\n",
       "      <td>HAM_0002730</td>\n",
       "      <td>ISIC_0026769</td>\n",
       "      <td>bkl</td>\n",
       "      <td>histo</td>\n",
       "      <td>80.0</td>\n",
       "      <td>male</td>\n",
       "      <td>scalp</td>\n",
       "    </tr>\n",
       "    <tr>\n",
       "      <th>3</th>\n",
       "      <td>HAM_0002730</td>\n",
       "      <td>ISIC_0025661</td>\n",
       "      <td>bkl</td>\n",
       "      <td>histo</td>\n",
       "      <td>80.0</td>\n",
       "      <td>male</td>\n",
       "      <td>scalp</td>\n",
       "    </tr>\n",
       "    <tr>\n",
       "      <th>4</th>\n",
       "      <td>HAM_0001466</td>\n",
       "      <td>ISIC_0031633</td>\n",
       "      <td>bkl</td>\n",
       "      <td>histo</td>\n",
       "      <td>75.0</td>\n",
       "      <td>male</td>\n",
       "      <td>ear</td>\n",
       "    </tr>\n",
       "  </tbody>\n",
       "</table>\n",
       "</div>"
      ],
      "text/plain": [
       "     lesion_id      image_id   dx dx_type   age   sex localization\n",
       "0  HAM_0000118  ISIC_0027419  bkl   histo  80.0  male        scalp\n",
       "1  HAM_0000118  ISIC_0025030  bkl   histo  80.0  male        scalp\n",
       "2  HAM_0002730  ISIC_0026769  bkl   histo  80.0  male        scalp\n",
       "3  HAM_0002730  ISIC_0025661  bkl   histo  80.0  male        scalp\n",
       "4  HAM_0001466  ISIC_0031633  bkl   histo  75.0  male          ear"
      ]
     },
     "execution_count": 2,
     "metadata": {},
     "output_type": "execute_result"
    }
   ],
   "source": [
    "# Import file\n",
    "df = pd.read_csv('HAM10000_metadata.csv', encoding='utf-8')\n",
    "df.head()"
   ]
  },
  {
   "cell_type": "markdown",
   "metadata": {},
   "source": [
    "## Load world population data"
   ]
  },
  {
   "cell_type": "code",
   "execution_count": 3,
   "metadata": {},
   "outputs": [
    {
     "data": {
      "text/html": [
       "<div>\n",
       "<style scoped>\n",
       "    .dataframe tbody tr th:only-of-type {\n",
       "        vertical-align: middle;\n",
       "    }\n",
       "\n",
       "    .dataframe tbody tr th {\n",
       "        vertical-align: top;\n",
       "    }\n",
       "\n",
       "    .dataframe thead th {\n",
       "        text-align: right;\n",
       "    }\n",
       "</style>\n",
       "<table border=\"1\" class=\"dataframe\">\n",
       "  <thead>\n",
       "    <tr style=\"text-align: right;\">\n",
       "      <th></th>\n",
       "      <th>Sex</th>\n",
       "      <th>0-4</th>\n",
       "      <th>5-9</th>\n",
       "      <th>10-14</th>\n",
       "      <th>15-19</th>\n",
       "      <th>20-24</th>\n",
       "      <th>25-29</th>\n",
       "      <th>30-34</th>\n",
       "      <th>35-39</th>\n",
       "      <th>40-44</th>\n",
       "      <th>...</th>\n",
       "      <th>55-59</th>\n",
       "      <th>60-64</th>\n",
       "      <th>65-69</th>\n",
       "      <th>70-74</th>\n",
       "      <th>75-79</th>\n",
       "      <th>80-84</th>\n",
       "      <th>85-89</th>\n",
       "      <th>90-94</th>\n",
       "      <th>95-99</th>\n",
       "      <th>100+</th>\n",
       "    </tr>\n",
       "  </thead>\n",
       "  <tbody>\n",
       "    <tr>\n",
       "      <th>0</th>\n",
       "      <td>Combined</td>\n",
       "      <td>670674</td>\n",
       "      <td>644706</td>\n",
       "      <td>615946</td>\n",
       "      <td>601644</td>\n",
       "      <td>597563</td>\n",
       "      <td>609086</td>\n",
       "      <td>550414</td>\n",
       "      <td>500480</td>\n",
       "      <td>487733</td>\n",
       "      <td>...</td>\n",
       "      <td>340945</td>\n",
       "      <td>294050</td>\n",
       "      <td>216166</td>\n",
       "      <td>153429</td>\n",
       "      <td>114720</td>\n",
       "      <td>70755</td>\n",
       "      <td>36351</td>\n",
       "      <td>12920</td>\n",
       "      <td>2790</td>\n",
       "      <td>417</td>\n",
       "    </tr>\n",
       "    <tr>\n",
       "      <th>1</th>\n",
       "      <td>Female</td>\n",
       "      <td>324426</td>\n",
       "      <td>311370</td>\n",
       "      <td>297197</td>\n",
       "      <td>290910</td>\n",
       "      <td>290007</td>\n",
       "      <td>297822</td>\n",
       "      <td>270534</td>\n",
       "      <td>247008</td>\n",
       "      <td>241397</td>\n",
       "      <td>...</td>\n",
       "      <td>172316</td>\n",
       "      <td>150610</td>\n",
       "      <td>113307</td>\n",
       "      <td>82435</td>\n",
       "      <td>64521</td>\n",
       "      <td>41933</td>\n",
       "      <td>23211</td>\n",
       "      <td>9009</td>\n",
       "      <td>2087</td>\n",
       "      <td>332</td>\n",
       "    </tr>\n",
       "    <tr>\n",
       "      <th>2</th>\n",
       "      <td>Male</td>\n",
       "      <td>346247</td>\n",
       "      <td>333336</td>\n",
       "      <td>318749</td>\n",
       "      <td>310734</td>\n",
       "      <td>307555</td>\n",
       "      <td>311265</td>\n",
       "      <td>279880</td>\n",
       "      <td>253472</td>\n",
       "      <td>246335</td>\n",
       "      <td>...</td>\n",
       "      <td>168629</td>\n",
       "      <td>143440</td>\n",
       "      <td>102859</td>\n",
       "      <td>70994</td>\n",
       "      <td>50199</td>\n",
       "      <td>28822</td>\n",
       "      <td>13141</td>\n",
       "      <td>3911</td>\n",
       "      <td>703</td>\n",
       "      <td>85</td>\n",
       "    </tr>\n",
       "  </tbody>\n",
       "</table>\n",
       "<p>3 rows × 22 columns</p>\n",
       "</div>"
      ],
      "text/plain": [
       "        Sex     0-4     5-9   10-14   15-19   20-24   25-29   30-34   35-39  \\\n",
       "0  Combined  670674  644706  615946  601644  597563  609086  550414  500480   \n",
       "1    Female  324426  311370  297197  290910  290007  297822  270534  247008   \n",
       "2      Male  346247  333336  318749  310734  307555  311265  279880  253472   \n",
       "\n",
       "    40-44  ...   55-59   60-64   65-69   70-74   75-79  80-84  85-89  90-94  \\\n",
       "0  487733  ...  340945  294050  216166  153429  114720  70755  36351  12920   \n",
       "1  241397  ...  172316  150610  113307   82435   64521  41933  23211   9009   \n",
       "2  246335  ...  168629  143440  102859   70994   50199  28822  13141   3911   \n",
       "\n",
       "   95-99  100+  \n",
       "0   2790   417  \n",
       "1   2087   332  \n",
       "2    703    85  \n",
       "\n",
       "[3 rows x 22 columns]"
      ]
     },
     "execution_count": 3,
     "metadata": {},
     "output_type": "execute_result"
    }
   ],
   "source": [
    "df_comp = pd.read_csv('Copy_PopulationAgeSex-20191020104736.csv', encoding='utf-8')\n",
    "df_comp.head()"
   ]
  },
  {
   "cell_type": "markdown",
   "metadata": {},
   "source": [
    "## Plot histograms: Age and sex"
   ]
  },
  {
   "cell_type": "markdown",
   "metadata": {},
   "source": [
    "## Female&male"
   ]
  },
  {
   "cell_type": "code",
   "execution_count": 4,
   "metadata": {},
   "outputs": [
    {
     "data": {
      "image/png": "[encoded data removed]",
      "text/plain": [
       "<Figure size 1152x576 with 2 Axes>"
      ]
     },
     "metadata": {
      "needs_background": "light"
     },
     "output_type": "display_data"
    }
   ],
   "source": [
    "plt.figure(figsize=(16,8))\n",
    "ax = plt.subplot(211)\n",
    "\n",
    "counts, bins = np.histogram(df['age'], bins=np.arange(0,106,5), density=False) #Dataset histogram\n",
    "freq_D = counts/counts.sum() #dataset frequency\n",
    "freq_W = df_comp.iloc[0][1:]/df_comp.iloc[0][1:].sum() #world frequency\n",
    "range = bins[:-1]+2.5 #range for plotting\n",
    "\n",
    "ax.bar(range, freq_W, color='b', width=4, alpha=.5, label='World population') #Plot World\n",
    "ax.bar(range, freq_D, color='r', width=4, alpha=.5, label='Dataset') #Plot Dataset\n",
    "\n",
    "ax.set_ylabel('Frequency  (%)'), plt.legend()\n",
    "\n",
    "ax2 = plt.subplot(212)\n",
    "\n",
    "KL = [i * np.log(i/j) for i, j in zip(freq_D, freq_W) if i > 0 and j > 0] #avoid 0\n",
    "idx = np.where(freq_D == 0)[0]\n",
    "[KL.insert(i, 0) for i in idx] #fill with 0\n",
    "ax2.plot(range, KL, color='k') #plot\n",
    "ax2.fill_between(range, KL, color='k')\n",
    "ax2.set_ylabel('Divergence (relative entropy)')\n",
    "\n",
    "ax2.set_xlabel('Age')\n",
    "\n",
    "plt.show()"
   ]
  },
  {
   "cell_type": "markdown",
   "metadata": {},
   "source": [
    "Divergence between distributions"
   ]
  },
  {
   "cell_type": "code",
   "execution_count": 5,
   "metadata": {},
   "outputs": [
    {
     "data": {
      "text/plain": [
       "0.5958751122421347"
      ]
     },
     "execution_count": 5,
     "metadata": {},
     "output_type": "execute_result"
    }
   ],
   "source": [
    "np.sum(KL)"
   ]
  },
  {
   "cell_type": "markdown",
   "metadata": {},
   "source": [
    "## Female"
   ]
  },
  {
   "cell_type": "code",
   "execution_count": 6,
   "metadata": {},
   "outputs": [
    {
     "data": {
      "image/png": "[encoded data removed]",
      "text/plain": [
       "<Figure size 1152x576 with 2 Axes>"
      ]
     },
     "metadata": {
      "needs_background": "light"
     },
     "output_type": "display_data"
    }
   ],
   "source": [
    "plt.figure(figsize=(16,8))\n",
    "ax = plt.subplot(211)\n",
    "\n",
    "counts, bins = np.histogram(df[df['sex']=='female']['age'],\n",
    "                            bins=np.arange(0,106,5), density=False) #Dataset histogram\n",
    "freq_D = counts/counts.sum() #dataset frequency\n",
    "freq_W = df_comp.iloc[1][1:]/df_comp.iloc[1][1:].sum() #world frequency - female\n",
    "range = bins[:-1]+2.5 #range for plotting\n",
    "\n",
    "ax.bar(range, freq_W, color='b', width=4, alpha=.5, label='World population') #Plot World\n",
    "ax.bar(range, freq_D, color='r', width=4, alpha=.5, label='Dataset') #Plot Dataset\n",
    "\n",
    "ax.set_ylabel('Frequency  (%)'), plt.legend()\n",
    "\n",
    "ax2 = plt.subplot(212)\n",
    "\n",
    "KL = [i * np.log(i/j) for i, j in zip(freq_D, freq_W) if i > 0 and j > 0] #avoid 0\n",
    "idx = np.where(freq_D == 0)[0]\n",
    "[KL.insert(i, 0) for i in idx] #fill with 0\n",
    "ax2.plot(range, KL, color='k') #plot\n",
    "ax2.fill_between(range, KL, color='k')\n",
    "ax2.set_ylabel('Divergence (relative entropy)')\n",
    "\n",
    "ax2.set_xlabel('Age')\n",
    "\n",
    "plt.show()"
   ]
  },
  {
   "cell_type": "markdown",
   "metadata": {},
   "source": [
    "Divergence between distributions"
   ]
  },
  {
   "cell_type": "code",
   "execution_count": 7,
   "metadata": {},
   "outputs": [
    {
     "data": {
      "text/plain": [
       "0.48213470223088695"
      ]
     },
     "execution_count": 7,
     "metadata": {},
     "output_type": "execute_result"
    }
   ],
   "source": [
    "np.sum(KL)"
   ]
  },
  {
   "cell_type": "markdown",
   "metadata": {},
   "source": [
    "## Male"
   ]
  },
  {
   "cell_type": "code",
   "execution_count": 8,
   "metadata": {},
   "outputs": [
    {
     "data": {
      "image/png": "[encoded data removed]",
      "text/plain": [
       "<Figure size 1152x576 with 2 Axes>"
      ]
     },
     "metadata": {
      "needs_background": "light"
     },
     "output_type": "display_data"
    }
   ],
   "source": [
    "plt.figure(figsize=(16,8))\n",
    "ax = plt.subplot(211)\n",
    "\n",
    "counts, bins = np.histogram(df[df['sex']=='male']['age'],\n",
    "                            bins=np.arange(0,106,5), density=False) #Dataset histogram\n",
    "freq_D = counts/counts.sum() #dataset frequency\n",
    "freq_W = df_comp.iloc[2][1:]/df_comp.iloc[2][1:].sum() #world frequency - female\n",
    "range = bins[:-1]+2.5 #range for plotting\n",
    "\n",
    "ax.bar(range, freq_W, color='b', width=4, alpha=.5, label='World population') #Plot World\n",
    "ax.bar(range, freq_D, color='r', width=4, alpha=.5, label='Dataset') #Plot Dataset\n",
    "\n",
    "ax.set_ylabel('Frequency  (%)'), plt.legend()\n",
    "\n",
    "ax2 = plt.subplot(212)\n",
    "\n",
    "KL = [i * np.log(i/j) for i, j in zip(freq_D, freq_W) if i > 0 and j > 0] #avoid 0\n",
    "idx = np.where(freq_D == 0)[0]\n",
    "[KL.insert(i, 0) for i in idx] #fill with 0\n",
    "ax2.plot(range, KL, color='k') #plot\n",
    "ax2.fill_between(range, KL, color='k')\n",
    "ax2.set_ylabel('Divergence (relative entropy)')\n",
    "\n",
    "ax2.set_xlabel('Age')\n",
    "\n",
    "plt.show()"
   ]
  },
  {
   "cell_type": "markdown",
   "metadata": {},
   "source": [
    "Divergence between distributions"
   ]
  },
  {
   "cell_type": "code",
   "execution_count": 9,
   "metadata": {},
   "outputs": [
    {
     "data": {
      "text/plain": [
       "0.7590726976306856"
      ]
     },
     "execution_count": 9,
     "metadata": {},
     "output_type": "execute_result"
    }
   ],
   "source": [
    "np.sum(KL)"
   ]
  },
  {
   "cell_type": "markdown",
   "metadata": {},
   "source": [
    "## Trials - old code"
   ]
  },
  {
   "cell_type": "code",
   "execution_count": 10,
   "metadata": {},
   "outputs": [],
   "source": [
    "#plt.figure(figsize=(16,8))\n",
    "#ax = plt.subplot(111)\n",
    "#ax.plot(np.linspace(0,100, 21), df_comp.iloc[0][1:]/df_comp.iloc[0][1:].sum(), linestyle='', marker='o', color='k', label='both')\n",
    "\n",
    "#ax.bar(np.linspace(0, 100, 21)+2.5, df_comp.iloc[0][1:]/df_comp.iloc[0][1:].sum(),\n",
    "#       color='k', width=4, alpha=.5, label='World population')\n",
    "\n",
    "#counts, bins = np.histogram(df['age'], bins=np.arange(0,101,5), density=False)\n",
    "\n",
    "#ax.bar(bins[:-1]+2.5, counts/counts.sum(),\n",
    "#       color='k', width=4, alpha=1, label='Dataset')\n",
    "\n",
    "#df['age'].hist(bins=np.arange(0,101,5), grid=False, density=True)\n",
    "#plt.show()\n",
    "\n",
    "#hist, bin_edges = np.histogram(df['age'], bins=np.linspace(0, 100, 21), density=True)\n",
    "\n",
    "#A = plt.hist(df['age'], bins=np.linspace(0, 100, 21), density=True)\n",
    "\n",
    "#pd.DataFrame.hist(df, column='age', grid=False,\n",
    "#                  xlabelsize=None, xrot=None, ylabelsize=None, yrot=None,\n",
    "#                  ax=ax, sharex=True, bins=np.linspace(0, 100, 21),\n",
    "#                  density=True, color='k', label='dataset')\n",
    "\n",
    "#plt.legend()\n",
    "#plt.show()"
   ]
  }
 ],
 "metadata": {
  "kernelspec": {
   "display_name": "Python 3",
   "language": "python",
   "name": "python3"
  },
  "language_info": {
   "codemirror_mode": {
    "name": "ipython",
    "version": 3
   },
   "file_extension": ".py",
   "mimetype": "text/x-python",
   "name": "python",
   "nbconvert_exporter": "python",
   "pygments_lexer": "ipython3",
   "version": "3.7.3"
  }
 },
 "nbformat": 4,
 "nbformat_minor": 2
}
